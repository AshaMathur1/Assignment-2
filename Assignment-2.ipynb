{
 "cells": [
  {
   "cell_type": "raw",
   "id": "4584c656",
   "metadata": {},
   "source": [
    "1.What are the two values of the Boolean data type? How do you write them?\n",
    "\n",
    "Two Boolean values are \"True\" and \"False\", we write them as 1 & 0 respectively.\n"
   ]
  },
  {
   "cell_type": "raw",
   "id": "80b443f9",
   "metadata": {},
   "source": [
    "2. What are the three different types of Boolean operators?\n",
    "\n",
    "a. AND\n",
    "b. OR\n",
    "c. Not"
   ]
  },
  {
   "cell_type": "raw",
   "id": "abcf7bea",
   "metadata": {},
   "source": [
    "3. Make a list of each Boolean operator's truth tables (i.e. every possible combination of Boolean values for the operator and what it evaluate).\n",
    "\n",
    "AND \n",
    "input1     input2    output\n",
    "0            0         0\n",
    "0            1         0\n",
    "1            0         0\n",
    "1            1         1\n",
    "\n",
    "\n",
    "OR\n",
    "input1     input2    output\n",
    "0            0         0\n",
    "0            1         1\n",
    "1            0         1\n",
    "1            1         1\n",
    "\n",
    "Not\n",
    "input     output   \n",
    "0            1\n",
    "1            0      "
   ]
  },
  {
   "cell_type": "code",
   "execution_count": 2,
   "id": "5774e4cd",
   "metadata": {},
   "outputs": [
    {
     "data": {
      "text/plain": [
       "False"
      ]
     },
     "execution_count": 2,
     "metadata": {},
     "output_type": "execute_result"
    }
   ],
   "source": [
    " # 4. What are the values of the following expressions?\n",
    "(5 > 4) and (3 == 5) # This is AND operator so both the values should be true to get a result as true."
   ]
  },
  {
   "cell_type": "code",
   "execution_count": 3,
   "id": "11941897",
   "metadata": {},
   "outputs": [
    {
     "data": {
      "text/plain": [
       "False"
      ]
     },
     "execution_count": 3,
     "metadata": {},
     "output_type": "execute_result"
    }
   ],
   "source": [
    "not (5 > 4)  # 5>4 which is true, but applying not operator makes the output as False"
   ]
  },
  {
   "cell_type": "code",
   "execution_count": 4,
   "id": "d4a7367a",
   "metadata": {},
   "outputs": [
    {
     "data": {
      "text/plain": [
       "True"
      ]
     },
     "execution_count": 4,
     "metadata": {},
     "output_type": "execute_result"
    }
   ],
   "source": [
    "(5 > 4) or (3 == 5) #In case of OR operator any one input should be true, to get the output as true, here 5>4 is true."
   ]
  },
  {
   "cell_type": "code",
   "execution_count": 5,
   "id": "632078ad",
   "metadata": {},
   "outputs": [
    {
     "data": {
      "text/plain": [
       "False"
      ]
     },
     "execution_count": 5,
     "metadata": {},
     "output_type": "execute_result"
    }
   ],
   "source": [
    "not ((5 > 4) or (3 == 5)) # This is the NOT operation on previous Or example Or result is true, not over true is false."
   ]
  },
  {
   "cell_type": "code",
   "execution_count": 6,
   "id": "f408cd61",
   "metadata": {},
   "outputs": [
    {
     "data": {
      "text/plain": [
       "False"
      ]
     },
     "execution_count": 6,
     "metadata": {},
     "output_type": "execute_result"
    }
   ],
   "source": [
    "(True and True) and (True == False) # input1 here is true and input 2 is false, so And operation resulted in False."
   ]
  },
  {
   "cell_type": "code",
   "execution_count": 7,
   "id": "6e791d99",
   "metadata": {},
   "outputs": [
    {
     "data": {
      "text/plain": [
       "True"
      ]
     },
     "execution_count": 7,
     "metadata": {},
     "output_type": "execute_result"
    }
   ],
   "source": [
    "(not False) or (not True) # input1 is not false means true and input2 is not true means false, so Or operation resulted in True."
   ]
  },
  {
   "cell_type": "raw",
   "id": "a27dc861",
   "metadata": {},
   "source": [
    "5. What are the six comparison operators?\n",
    "\n",
    "== equals, != not equals, > greater than, < less than, >= greater than or equals to, <= less than or equals to."
   ]
  },
  {
   "cell_type": "raw",
   "id": "bb28f9fc",
   "metadata": {},
   "source": [
    "6. How do you tell the difference between the equal to and assignment operators?Describe a condition and when you would use one.\n",
    "\n",
    "== this is equals to operator\n",
    "= this is assignment operator\n",
    "\n",
    "== would be used when we want to compare two operands, if they are equal or not. (23==32)?\n",
    "= would be used when we want to assign some value to a variable.(a=23)."
   ]
  },
  {
   "cell_type": "code",
   "execution_count": 9,
   "id": "bdb70510",
   "metadata": {},
   "outputs": [
    {
     "name": "stdout",
     "output_type": "stream",
     "text": [
      "spam\n",
      "spam\n"
     ]
    }
   ],
   "source": [
    "##7. Identify the three blocks in this code:\n",
    "spam = 0\n",
    "if spam == 10:\n",
    "    print('eggs')\n",
    "    if spam > 5:\n",
    "        print('bacon')\n",
    "    else:\n",
    "         print('ham')\n",
    "else:       \n",
    "    print('spam')\n",
    "    \n",
    "print('spam')\n"
   ]
  },
  {
   "cell_type": "raw",
   "id": "10e08f35",
   "metadata": {},
   "source": [
    "8. Write code that prints Hello if 1 is stored in spam, prints Howdy if 2 is stored in spam, and prints Greetings! if anything else is stored in spam. # I have tried to solve this by below two approaches."
   ]
  },
  {
   "cell_type": "code",
   "execution_count": 26,
   "id": "207c9612",
   "metadata": {},
   "outputs": [
    {
     "name": "stdout",
     "output_type": "stream",
     "text": [
      "Greetings!\n",
      "Hello\n",
      "Howdy\n",
      "Greetings!\n",
      "Greetings!\n",
      "Greetings!\n"
     ]
    }
   ],
   "source": [
    "spam = [0,1,2,3,4,5]\n",
    "for i in spam:\n",
    "    if i ==1:\n",
    "        print('Hello')\n",
    "    elif i ==2:\n",
    "        print('Howdy')\n",
    "    else:\n",
    "        print ('Greetings!')\n",
    "    \n",
    "\n",
    "\n"
   ]
  },
  {
   "cell_type": "code",
   "execution_count": 31,
   "id": "f2d4eae4",
   "metadata": {},
   "outputs": [
    {
     "name": "stdout",
     "output_type": "stream",
     "text": [
      "1\n",
      "Hello\n"
     ]
    }
   ],
   "source": [
    "spam = int(input())\n",
    "if spam ==1:\n",
    "    print('Hello')\n",
    "elif spam ==2:\n",
    "    print('Howdy')\n",
    "else:\n",
    "    print('Greetings!')\n",
    "    "
   ]
  },
  {
   "cell_type": "raw",
   "id": "15d8abc7",
   "metadata": {},
   "source": [
    "9.If your programme is stuck in an endless loop, what keys you’ll press? \n",
    "ESC (Escape key) can be pressed in this scenario."
   ]
  },
  {
   "cell_type": "raw",
   "id": "73dee0c1",
   "metadata": {},
   "source": [
    "10. How can you tell the difference between break and continue?\n",
    "\n",
    "Break and continue are the loop control statements, which act opposite to each other.\n",
    "We can use Break statement if we want to come out of the loop, cursor will move on the code written after break statement.\n",
    "We can use Continue statement if we want to execute the loop again, cursor will move back to the loop skipping the code written after continue statement."
   ]
  },
  {
   "cell_type": "raw",
   "id": "4aa36ad8",
   "metadata": {},
   "source": [
    "11. In a for loop, what is the difference between range(10), range(0, 10), and range(0, 10, 1)?\n",
    "\n",
    "They all are the same."
   ]
  },
  {
   "cell_type": "code",
   "execution_count": 32,
   "id": "294c37ff",
   "metadata": {},
   "outputs": [
    {
     "data": {
      "text/plain": [
       "range(0, 10)"
      ]
     },
     "execution_count": 32,
     "metadata": {},
     "output_type": "execute_result"
    }
   ],
   "source": [
    "range(10)"
   ]
  },
  {
   "cell_type": "raw",
   "id": "7b7c0337",
   "metadata": {},
   "source": [
    "range(0,10)"
   ]
  },
  {
   "cell_type": "code",
   "execution_count": 33,
   "id": "8863c280",
   "metadata": {},
   "outputs": [
    {
     "data": {
      "text/plain": [
       "range(0, 10)"
      ]
     },
     "execution_count": 33,
     "metadata": {},
     "output_type": "execute_result"
    }
   ],
   "source": [
    "range(0,10)"
   ]
  },
  {
   "cell_type": "code",
   "execution_count": 34,
   "id": "4a5fff3e",
   "metadata": {},
   "outputs": [
    {
     "data": {
      "text/plain": [
       "range(0, 10)"
      ]
     },
     "execution_count": 34,
     "metadata": {},
     "output_type": "execute_result"
    }
   ],
   "source": [
    "range(0,10,1)"
   ]
  },
  {
   "cell_type": "code",
   "execution_count": 64,
   "id": "0d0f37c2",
   "metadata": {},
   "outputs": [],
   "source": [
    "A = range(0,10,1)"
   ]
  },
  {
   "cell_type": "code",
   "execution_count": 65,
   "id": "e3f85654",
   "metadata": {},
   "outputs": [
    {
     "name": "stdout",
     "output_type": "stream",
     "text": [
      "0\n",
      "1\n",
      "2\n",
      "3\n",
      "4\n",
      "5\n",
      "6\n",
      "7\n",
      "8\n",
      "9\n"
     ]
    }
   ],
   "source": [
    "for i in A:\n",
    "    print (i)"
   ]
  },
  {
   "cell_type": "code",
   "execution_count": 66,
   "id": "3613c053",
   "metadata": {},
   "outputs": [
    {
     "data": {
      "text/plain": [
       "range(0, 10)"
      ]
     },
     "execution_count": 66,
     "metadata": {},
     "output_type": "execute_result"
    }
   ],
   "source": [
    "A"
   ]
  },
  {
   "cell_type": "code",
   "execution_count": 62,
   "id": "41a4e57c",
   "metadata": {},
   "outputs": [
    {
     "name": "stdout",
     "output_type": "stream",
     "text": [
      "0\n",
      "1\n",
      "2\n",
      "3\n",
      "4\n",
      "5\n",
      "6\n",
      "7\n",
      "8\n",
      "9\n"
     ]
    }
   ],
   "source": [
    "B = range(0,10)\n",
    "for i in B:\n",
    "    print (i)"
   ]
  },
  {
   "cell_type": "code",
   "execution_count": 63,
   "id": "3431458f",
   "metadata": {},
   "outputs": [
    {
     "name": "stdout",
     "output_type": "stream",
     "text": [
      "0\n",
      "1\n",
      "2\n",
      "3\n",
      "4\n",
      "5\n",
      "6\n",
      "7\n",
      "8\n",
      "9\n"
     ]
    }
   ],
   "source": [
    "C = range(10)\n",
    "for i in C:\n",
    "    print (i)"
   ]
  },
  {
   "cell_type": "raw",
   "id": "32357ec2",
   "metadata": {},
   "source": [
    "12. Write a short program that prints the numbers 1 to 10 using a for loop. Then write an equivalent program that prints the numbers 1 to 10 using a while loop."
   ]
  },
  {
   "cell_type": "code",
   "execution_count": 67,
   "id": "27f43cbe",
   "metadata": {},
   "outputs": [
    {
     "name": "stdout",
     "output_type": "stream",
     "text": [
      "1\n",
      "2\n",
      "3\n",
      "4\n",
      "5\n",
      "6\n",
      "7\n",
      "8\n",
      "9\n",
      "10\n"
     ]
    }
   ],
   "source": [
    "l = [1,2,3,4,5,6,7,8,9,10]\n",
    "for i in l:\n",
    "    print(i)"
   ]
  },
  {
   "cell_type": "code",
   "execution_count": 68,
   "id": "65c84b33",
   "metadata": {},
   "outputs": [
    {
     "name": "stdout",
     "output_type": "stream",
     "text": [
      "1\n",
      "2\n",
      "3\n",
      "4\n",
      "5\n",
      "6\n",
      "7\n",
      "8\n",
      "9\n",
      "10\n"
     ]
    }
   ],
   "source": [
    "R = range(1,11)\n",
    "for i in R:\n",
    "    print (i)"
   ]
  },
  {
   "cell_type": "code",
   "execution_count": null,
   "id": "00c5f190",
   "metadata": {},
   "outputs": [],
   "source": [
    "a=1\n",
    "while a<11:\n",
    "    print(a)\n",
    "    a = a+1\n",
    "    "
   ]
  },
  {
   "cell_type": "raw",
   "id": "02e28092",
   "metadata": {},
   "source": [
    "13. If you had a function named bacon() inside a module named spam, how would you call it after importing spam?"
   ]
  },
  {
   "cell_type": "code",
   "execution_count": null,
   "id": "1bc482d0",
   "metadata": {},
   "outputs": [],
   "source": [
    "import spam\n",
    "\n",
    "spam.bacon()"
   ]
  }
 ],
 "metadata": {
  "kernelspec": {
   "display_name": "Python 3 (ipykernel)",
   "language": "python",
   "name": "python3"
  },
  "language_info": {
   "codemirror_mode": {
    "name": "ipython",
    "version": 3
   },
   "file_extension": ".py",
   "mimetype": "text/x-python",
   "name": "python",
   "nbconvert_exporter": "python",
   "pygments_lexer": "ipython3",
   "version": "3.9.7"
  }
 },
 "nbformat": 4,
 "nbformat_minor": 5
}
